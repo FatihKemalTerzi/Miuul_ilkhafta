{
 "cells": [
  {
   "cell_type": "code",
   "execution_count": 1,
   "id": "226d85ce",
   "metadata": {},
   "outputs": [],
   "source": [
    "def toplama(numara1, numara2):\n",
    "    return numara1 + numara2 "
   ]
  },
  {
   "cell_type": "code",
   "execution_count": 3,
   "id": "701d3381",
   "metadata": {},
   "outputs": [
    {
     "name": "stdout",
     "output_type": "stream",
     "text": [
      "ilk numarayı giriniz: 2\n",
      "ikinci numarayı giriniz: 3\n"
     ]
    },
    {
     "data": {
      "text/plain": [
       "5"
      ]
     },
     "execution_count": 3,
     "metadata": {},
     "output_type": "execute_result"
    }
   ],
   "source": [
    "x = int(input(\"ilk numarayı giriniz: \"))\n",
    "y = int(input(\"ikinci numarayı giriniz: \"))\n",
    "toplama(x,y)"
   ]
  },
  {
   "cell_type": "markdown",
   "id": "cd143234",
   "metadata": {},
   "source": [
    "# try & except & else & finally"
   ]
  },
  {
   "cell_type": "code",
   "execution_count": 4,
   "id": "8045bef0",
   "metadata": {},
   "outputs": [
    {
     "name": "stdout",
     "output_type": "stream",
     "text": [
      "Numaranızı giriniz: fatih\n",
      "Lütfen gerçekten numara giriniz\n",
      "finally çağırıldı\n",
      "Numaranızı giriniz: fujbkj\n",
      "Lütfen gerçekten numara giriniz\n",
      "finally çağırıldı\n",
      "Numaranızı giriniz: 15\n",
      "Teşekkürler\n",
      "finally çağırıldı\n"
     ]
    }
   ],
   "source": [
    "while True:\n",
    "    try:\n",
    "        benimInt = int(input(\"Numaranızı giriniz: \"))\n",
    "    except:\n",
    "        print(\"Lütfen gerçekten numara giriniz\")\n",
    "        continue\n",
    "    else:\n",
    "        print(\"Teşekkürler\")\n",
    "        break\n",
    "    finally:\n",
    "        print(\"finally çağırıldı\")"
   ]
  }
 ],
 "metadata": {
  "kernelspec": {
   "display_name": "Python 3 (ipykernel)",
   "language": "python",
   "name": "python3"
  },
  "language_info": {
   "codemirror_mode": {
    "name": "ipython",
    "version": 3
   },
   "file_extension": ".py",
   "mimetype": "text/x-python",
   "name": "python",
   "nbconvert_exporter": "python",
   "pygments_lexer": "ipython3",
   "version": "3.9.12"
  }
 },
 "nbformat": 4,
 "nbformat_minor": 5
}
